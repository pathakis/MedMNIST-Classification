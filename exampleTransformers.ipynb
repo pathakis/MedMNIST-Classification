{
 "cells": [
  {
   "cell_type": "code",
   "execution_count": 1,
   "metadata": {},
   "outputs": [],
   "source": [
    "from medmnist import PneumoniaMNIST, RetinaMNIST\n",
    "import matplotlib.pyplot as plt\n",
    "from PIL import Image\n",
    "from transformers import ViTFeatureExtractor, ViTImageProcessor, ViTForImageClassification"
   ]
  },
  {
   "cell_type": "code",
   "execution_count": 2,
   "metadata": {},
   "outputs": [
    {
     "name": "stdout",
     "output_type": "stream",
     "text": [
      "Using downloaded and verified file: /Users/oscarrosman/.medmnist/pneumoniamnist.npz\n",
      "Using downloaded and verified file: /Users/oscarrosman/.medmnist/pneumoniamnist.npz\n",
      "Using downloaded and verified file: /Users/oscarrosman/.medmnist/pneumoniamnist.npz\n",
      "Using downloaded and verified file: /Users/oscarrosman/.medmnist/retinamnist.npz\n",
      "Using downloaded and verified file: /Users/oscarrosman/.medmnist/retinamnist.npz\n",
      "Using downloaded and verified file: /Users/oscarrosman/.medmnist/retinamnist.npz\n"
     ]
    }
   ],
   "source": [
    "class DataSet:\n",
    "    def __init__(self, datasetMNIST):\n",
    "        self.trainingSet = datasetMNIST(split='train', download=True)\n",
    "        self.validationSet = datasetMNIST(split='val', download=True)\n",
    "        self.testSet = datasetMNIST(split='test', download=True)\n",
    "\n",
    "    def OverwriteSubsets(self):\n",
    "        self.trainingSet = SplitData(self.trainingSet)\n",
    "        self.validationSet = SplitData(self.validationSet)\n",
    "        self.testSet = SplitData(self.testSet)\n",
    "        \n",
    "\n",
    "def SplitData(subset):\n",
    "    if type(subset) == dict:\n",
    "        print(\"Already split\")\n",
    "        return subset\n",
    "    \n",
    "    images = []\n",
    "    labels = []\n",
    "    for (img, label) in subset:\n",
    "        images.append(img.convert('RGB'))\n",
    "        labels.append(label)\n",
    "    output = dict()\n",
    "    output['img'] = images\n",
    "    output['labels'] = labels\n",
    "\n",
    "    return output\n",
    "\n",
    "\n",
    "        \n",
    "\n",
    "penumoniaDataSet = DataSet(PneumoniaMNIST)\n",
    "retinaDataSet = DataSet(RetinaMNIST)\n"
   ]
  },
  {
   "cell_type": "code",
   "execution_count": 3,
   "metadata": {},
   "outputs": [],
   "source": [
    "penumoniaDataSet.OverwriteSubsets()\n",
    "retinaDataSet.OverwriteSubsets()"
   ]
  },
  {
   "cell_type": "code",
   "execution_count": 4,
   "metadata": {},
   "outputs": [],
   "source": [
    "path = 'google/vit-base-patch16-224-in21k'\n",
    "featureExtractor = ViTImageProcessor.from_pretrained(path)"
   ]
  },
  {
   "cell_type": "code",
   "execution_count": 5,
   "metadata": {},
   "outputs": [
    {
     "ename": "",
     "evalue": "",
     "output_type": "error",
     "traceback": [
      "\u001b[1;31mThe Kernel crashed while executing code in the current cell or a previous cell. \n",
      "\u001b[1;31mPlease review the code in the cell(s) to identify a possible cause of the failure. \n",
      "\u001b[1;31mClick <a href='https://aka.ms/vscodeJupyterKernelCrash'>here</a> for more info. \n",
      "\u001b[1;31mView Jupyter <a href='command:jupyter.viewOutput'>log</a> for further details."
     ]
    }
   ],
   "source": [
    "example = featureExtractor(penumoniaDataSet.trainingSet['img'][0], return_tensors='pt')\n",
    "print(example)"
   ]
  },
  {
   "cell_type": "code",
   "execution_count": null,
   "metadata": {},
   "outputs": [],
   "source": []
  }
 ],
 "metadata": {
  "kernelspec": {
   "display_name": "base",
   "language": "python",
   "name": "python3"
  },
  "language_info": {
   "codemirror_mode": {
    "name": "ipython",
    "version": 3
   },
   "file_extension": ".py",
   "mimetype": "text/x-python",
   "name": "python",
   "nbconvert_exporter": "python",
   "pygments_lexer": "ipython3",
   "version": "3.10.13"
  }
 },
 "nbformat": 4,
 "nbformat_minor": 2
}
