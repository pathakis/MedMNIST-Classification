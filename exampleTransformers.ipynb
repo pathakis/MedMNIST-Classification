{
 "cells": [
  {
   "cell_type": "code",
   "execution_count": null,
   "metadata": {},
   "outputs": [
    {
     "ename": "",
     "evalue": "",
     "output_type": "error",
     "traceback": [
      "\u001b[1;31mRunning cells with 'Python 3.12.3' requires the ipykernel package.\n",
      "\u001b[1;31mRun the following command to install 'ipykernel' into the Python environment. \n",
      "\u001b[1;31mCommand: '/opt/homebrew/bin/python3 -m pip install ipykernel -U --user --force-reinstall'"
     ]
    }
   ],
   "source": [
    "from medmnist import PneumoniaMNIST, RetinaMNIST\n",
    "import matplotlib.pyplot as plt\n",
    "from PIL import Image\n",
    "from transformers import ViTFeatureExtractor, ViTImageProcessor, ViTForImageClassification"
   ]
  },
  {
   "cell_type": "code",
   "execution_count": null,
   "metadata": {},
   "outputs": [
    {
     "ename": "",
     "evalue": "",
     "output_type": "error",
     "traceback": [
      "\u001b[1;31mRunning cells with 'Python 3.12.3' requires the ipykernel package.\n",
      "\u001b[1;31mRun the following command to install 'ipykernel' into the Python environment. \n",
      "\u001b[1;31mCommand: '/opt/homebrew/bin/python3 -m pip install ipykernel -U --user --force-reinstall'"
     ]
    }
   ],
   "source": [
    "class DataSet:\n",
    "    def __init__(self, datasetMNIST):\n",
    "        self.trainingSet = datasetMNIST(split='train', download=True)\n",
    "        self.validationSet = datasetMNIST(split='val', download=True)\n",
    "        self.testSet = datasetMNIST(split='test', download=True)\n",
    "\n",
    "    def OverwriteSubsets(self):\n",
    "        self.trainingSet = SplitData(self.trainingSet)\n",
    "        self.validationSet = SplitData(self.validationSet)\n",
    "        self.testSet = SplitData(self.testSet)\n",
    "        \n",
    "\n",
    "def SplitData(subset):\n",
    "    if type(subset) == dict:\n",
    "        print(\"Already split\")\n",
    "        return subset\n",
    "    \n",
    "    images = []\n",
    "    labels = []\n",
    "    for (img, label) in subset:\n",
    "        images.append(img.convert('RGB'))\n",
    "        labels.append(label)\n",
    "    output = dict()\n",
    "    output['img'] = images\n",
    "    output['labels'] = labels\n",
    "\n",
    "    return output\n",
    "\n",
    "\n",
    "        \n",
    "\n",
    "penumoniaDataSet = DataSet(PneumoniaMNIST)\n",
    "retinaDataSet = DataSet(RetinaMNIST)\n"
   ]
  },
  {
   "cell_type": "code",
   "execution_count": null,
   "metadata": {},
   "outputs": [
    {
     "ename": "",
     "evalue": "",
     "output_type": "error",
     "traceback": [
      "\u001b[1;31mRunning cells with 'Python 3.12.3' requires the ipykernel package.\n",
      "\u001b[1;31mRun the following command to install 'ipykernel' into the Python environment. \n",
      "\u001b[1;31mCommand: '/opt/homebrew/bin/python3 -m pip install ipykernel -U --user --force-reinstall'"
     ]
    }
   ],
   "source": [
    "penumoniaDataSet.OverwriteSubsets()\n",
    "retinaDataSet.OverwriteSubsets()"
   ]
  },
  {
   "cell_type": "code",
   "execution_count": null,
   "metadata": {},
   "outputs": [
    {
     "ename": "",
     "evalue": "",
     "output_type": "error",
     "traceback": [
      "\u001b[1;31mRunning cells with 'Python 3.12.3' requires the ipykernel package.\n",
      "\u001b[1;31mRun the following command to install 'ipykernel' into the Python environment. \n",
      "\u001b[1;31mCommand: '/opt/homebrew/bin/python3 -m pip install ipykernel -U --user --force-reinstall'"
     ]
    }
   ],
   "source": [
    "path = 'google/vit-base-patch16-224-in21k'\n",
    "featureExtractor = ViTImageProcessor.from_pretrained(path)"
   ]
  },
  {
   "cell_type": "code",
   "execution_count": null,
   "metadata": {},
   "outputs": [
    {
     "ename": "",
     "evalue": "",
     "output_type": "error",
     "traceback": [
      "\u001b[1;31mRunning cells with 'Python 3.12.3' requires the ipykernel package.\n",
      "\u001b[1;31mRun the following command to install 'ipykernel' into the Python environment. \n",
      "\u001b[1;31mCommand: '/opt/homebrew/bin/python3 -m pip install ipykernel -U --user --force-reinstall'"
     ]
    }
   ],
   "source": [
    "example = featureExtractor(penumoniaDataSet.trainingSet['img'][0], return_tensors='pt')\n",
    "print(example)"
   ]
  },
  {
   "cell_type": "code",
   "execution_count": null,
   "metadata": {},
   "outputs": [
    {
     "ename": "",
     "evalue": "",
     "output_type": "error",
     "traceback": [
      "\u001b[1;31mRunning cells with 'Python 3.12.3' requires the ipykernel package.\n",
      "\u001b[1;31mRun the following command to install 'ipykernel' into the Python environment. \n",
      "\u001b[1;31mCommand: '/opt/homebrew/bin/python3 -m pip install ipykernel -U --user --force-reinstall'"
     ]
    }
   ],
   "source": []
  }
 ],
 "metadata": {
  "kernelspec": {
   "display_name": "base",
   "language": "python",
   "name": "python3"
  },
  "language_info": {
   "codemirror_mode": {
    "name": "ipython",
    "version": 3
   },
   "file_extension": ".py",
   "mimetype": "text/x-python",
   "name": "python",
   "nbconvert_exporter": "python",
   "pygments_lexer": "ipython3",
   "version": "3.12.3"
  }
 },
 "nbformat": 4,
 "nbformat_minor": 2
}
