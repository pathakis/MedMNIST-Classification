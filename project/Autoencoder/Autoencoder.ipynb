{
 "cells": [
  {
   "cell_type": "code",
   "execution_count": 1,
   "metadata": {},
   "outputs": [
    {
     "name": "stdout",
     "output_type": "stream",
     "text": [
      "Using downloaded and verified file: C:\\Users\\metho\\.medmnist\\tissuemnist.npz\n",
      "Using downloaded and verified file: C:\\Users\\metho\\.medmnist\\tissuemnist.npz\n",
      "Using downloaded and verified file: C:\\Users\\metho\\.medmnist\\tissuemnist.npz\n"
     ]
    },
    {
     "name": "stderr",
     "output_type": "stream",
     "text": [
      "Autoencoder Training Epoch 1/20: 100%|██████████| 2586/2586 [01:11<00:00, 36.35it/s]\n"
     ]
    },
    {
     "name": "stdout",
     "output_type": "stream",
     "text": [
      "Epoch [1/20], Loss: 0.6754\n"
     ]
    },
    {
     "name": "stderr",
     "output_type": "stream",
     "text": [
      "Autoencoder Training Epoch 2/20: 100%|██████████| 2586/2586 [01:24<00:00, 30.78it/s]\n"
     ]
    },
    {
     "name": "stdout",
     "output_type": "stream",
     "text": [
      "Epoch [2/20], Loss: 0.6735\n"
     ]
    },
    {
     "name": "stderr",
     "output_type": "stream",
     "text": [
      "Autoencoder Training Epoch 3/20: 100%|██████████| 2586/2586 [01:28<00:00, 29.10it/s]\n"
     ]
    },
    {
     "name": "stdout",
     "output_type": "stream",
     "text": [
      "Epoch [3/20], Loss: 0.6735\n"
     ]
    },
    {
     "name": "stderr",
     "output_type": "stream",
     "text": [
      "Autoencoder Training Epoch 4/20: 100%|██████████| 2586/2586 [01:24<00:00, 30.78it/s]\n"
     ]
    },
    {
     "name": "stdout",
     "output_type": "stream",
     "text": [
      "Epoch [4/20], Loss: 0.6735\n"
     ]
    },
    {
     "name": "stderr",
     "output_type": "stream",
     "text": [
      "Autoencoder Training Epoch 5/20: 100%|██████████| 2586/2586 [01:23<00:00, 31.02it/s]\n"
     ]
    },
    {
     "name": "stdout",
     "output_type": "stream",
     "text": [
      "Epoch [5/20], Loss: 0.6735\n"
     ]
    },
    {
     "name": "stderr",
     "output_type": "stream",
     "text": [
      "Autoencoder Training Epoch 6/20: 100%|██████████| 2586/2586 [01:23<00:00, 30.91it/s]\n"
     ]
    },
    {
     "name": "stdout",
     "output_type": "stream",
     "text": [
      "Epoch [6/20], Loss: 0.6735\n"
     ]
    },
    {
     "name": "stderr",
     "output_type": "stream",
     "text": [
      "Autoencoder Training Epoch 7/20: 100%|██████████| 2586/2586 [01:24<00:00, 30.44it/s]\n"
     ]
    },
    {
     "name": "stdout",
     "output_type": "stream",
     "text": [
      "Epoch [7/20], Loss: 0.6735\n"
     ]
    },
    {
     "name": "stderr",
     "output_type": "stream",
     "text": [
      "Autoencoder Training Epoch 8/20: 100%|██████████| 2586/2586 [01:24<00:00, 30.55it/s]\n"
     ]
    },
    {
     "name": "stdout",
     "output_type": "stream",
     "text": [
      "Epoch [8/20], Loss: 0.6735\n"
     ]
    },
    {
     "name": "stderr",
     "output_type": "stream",
     "text": [
      "Autoencoder Training Epoch 9/20: 100%|██████████| 2586/2586 [01:25<00:00, 30.31it/s]\n"
     ]
    },
    {
     "name": "stdout",
     "output_type": "stream",
     "text": [
      "Epoch [9/20], Loss: 0.6735\n"
     ]
    },
    {
     "name": "stderr",
     "output_type": "stream",
     "text": [
      "Autoencoder Training Epoch 10/20: 100%|██████████| 2586/2586 [01:24<00:00, 30.74it/s]\n"
     ]
    },
    {
     "name": "stdout",
     "output_type": "stream",
     "text": [
      "Epoch [10/20], Loss: 0.6735\n"
     ]
    },
    {
     "name": "stderr",
     "output_type": "stream",
     "text": [
      "Autoencoder Training Epoch 11/20: 100%|██████████| 2586/2586 [01:24<00:00, 30.54it/s]\n"
     ]
    },
    {
     "name": "stdout",
     "output_type": "stream",
     "text": [
      "Epoch [11/20], Loss: 0.6735\n"
     ]
    },
    {
     "name": "stderr",
     "output_type": "stream",
     "text": [
      "Autoencoder Training Epoch 12/20: 100%|██████████| 2586/2586 [01:25<00:00, 30.32it/s]\n"
     ]
    },
    {
     "name": "stdout",
     "output_type": "stream",
     "text": [
      "Epoch [12/20], Loss: 0.6735\n"
     ]
    },
    {
     "name": "stderr",
     "output_type": "stream",
     "text": [
      "Autoencoder Training Epoch 13/20: 100%|██████████| 2586/2586 [01:25<00:00, 30.41it/s]\n"
     ]
    },
    {
     "name": "stdout",
     "output_type": "stream",
     "text": [
      "Epoch [13/20], Loss: 0.6735\n"
     ]
    },
    {
     "name": "stderr",
     "output_type": "stream",
     "text": [
      "Autoencoder Training Epoch 14/20: 100%|██████████| 2586/2586 [01:26<00:00, 29.81it/s]\n"
     ]
    },
    {
     "name": "stdout",
     "output_type": "stream",
     "text": [
      "Epoch [14/20], Loss: 0.6735\n"
     ]
    },
    {
     "name": "stderr",
     "output_type": "stream",
     "text": [
      "Autoencoder Training Epoch 15/20: 100%|██████████| 2586/2586 [01:31<00:00, 28.28it/s]\n"
     ]
    },
    {
     "name": "stdout",
     "output_type": "stream",
     "text": [
      "Epoch [15/20], Loss: 0.6735\n"
     ]
    },
    {
     "name": "stderr",
     "output_type": "stream",
     "text": [
      "Autoencoder Training Epoch 16/20: 100%|██████████| 2586/2586 [01:26<00:00, 29.99it/s]\n"
     ]
    },
    {
     "name": "stdout",
     "output_type": "stream",
     "text": [
      "Epoch [16/20], Loss: 0.6735\n"
     ]
    },
    {
     "name": "stderr",
     "output_type": "stream",
     "text": [
      "Autoencoder Training Epoch 17/20: 100%|██████████| 2586/2586 [01:31<00:00, 28.36it/s]\n"
     ]
    },
    {
     "name": "stdout",
     "output_type": "stream",
     "text": [
      "Epoch [17/20], Loss: 0.6735\n"
     ]
    },
    {
     "name": "stderr",
     "output_type": "stream",
     "text": [
      "Autoencoder Training Epoch 18/20: 100%|██████████| 2586/2586 [01:32<00:00, 27.93it/s]\n"
     ]
    },
    {
     "name": "stdout",
     "output_type": "stream",
     "text": [
      "Epoch [18/20], Loss: 0.6735\n"
     ]
    },
    {
     "name": "stderr",
     "output_type": "stream",
     "text": [
      "Autoencoder Training Epoch 19/20: 100%|██████████| 2586/2586 [01:34<00:00, 27.39it/s]\n"
     ]
    },
    {
     "name": "stdout",
     "output_type": "stream",
     "text": [
      "Epoch [19/20], Loss: 0.6735\n"
     ]
    },
    {
     "name": "stderr",
     "output_type": "stream",
     "text": [
      "Autoencoder Training Epoch 20/20: 100%|██████████| 2586/2586 [01:36<00:00, 26.86it/s]\n"
     ]
    },
    {
     "name": "stdout",
     "output_type": "stream",
     "text": [
      "Epoch [20/20], Loss: 0.6735\n"
     ]
    },
    {
     "name": "stderr",
     "output_type": "stream",
     "text": [
      "Classifier Training Epoch 1/20: 100%|██████████| 2586/2586 [00:35<00:00, 73.85it/s]\n"
     ]
    },
    {
     "name": "stdout",
     "output_type": "stream",
     "text": [
      "Epoch [1/20], Loss: 1.6288\n",
      "Validation Loss: 1.5147, Accuracy: 0.4465\n"
     ]
    },
    {
     "name": "stderr",
     "output_type": "stream",
     "text": [
      "Classifier Training Epoch 2/20: 100%|██████████| 2586/2586 [00:40<00:00, 63.58it/s]\n"
     ]
    },
    {
     "name": "stdout",
     "output_type": "stream",
     "text": [
      "Epoch [2/20], Loss: 1.4724\n",
      "Validation Loss: 1.4246, Accuracy: 0.4822\n"
     ]
    },
    {
     "name": "stderr",
     "output_type": "stream",
     "text": [
      "Classifier Training Epoch 3/20: 100%|██████████| 2586/2586 [00:41<00:00, 62.33it/s]\n"
     ]
    },
    {
     "name": "stdout",
     "output_type": "stream",
     "text": [
      "Epoch [3/20], Loss: 1.4297\n",
      "Validation Loss: 1.4050, Accuracy: 0.4960\n"
     ]
    },
    {
     "name": "stderr",
     "output_type": "stream",
     "text": [
      "Classifier Training Epoch 4/20: 100%|██████████| 2586/2586 [00:43<00:00, 58.83it/s]\n"
     ]
    },
    {
     "name": "stdout",
     "output_type": "stream",
     "text": [
      "Epoch [4/20], Loss: 1.4211\n",
      "Validation Loss: 1.4008, Accuracy: 0.4940\n"
     ]
    },
    {
     "name": "stderr",
     "output_type": "stream",
     "text": [
      "Classifier Training Epoch 5/20: 100%|██████████| 2586/2586 [00:58<00:00, 43.86it/s]\n"
     ]
    },
    {
     "name": "stdout",
     "output_type": "stream",
     "text": [
      "Epoch [5/20], Loss: 1.4132\n",
      "Validation Loss: 1.4194, Accuracy: 0.4772\n"
     ]
    },
    {
     "name": "stderr",
     "output_type": "stream",
     "text": [
      "Classifier Training Epoch 6/20: 100%|██████████| 2586/2586 [01:30<00:00, 28.70it/s]\n"
     ]
    },
    {
     "name": "stdout",
     "output_type": "stream",
     "text": [
      "Epoch [6/20], Loss: 1.4103\n",
      "Validation Loss: 1.4032, Accuracy: 0.4927\n"
     ]
    },
    {
     "name": "stderr",
     "output_type": "stream",
     "text": [
      "Classifier Training Epoch 7/20: 100%|██████████| 2586/2586 [01:32<00:00, 27.92it/s]\n"
     ]
    },
    {
     "name": "stdout",
     "output_type": "stream",
     "text": [
      "Epoch [7/20], Loss: 1.4054\n",
      "Validation Loss: 1.4244, Accuracy: 0.4793\n"
     ]
    },
    {
     "name": "stderr",
     "output_type": "stream",
     "text": [
      "Classifier Training Epoch 8/20: 100%|██████████| 2586/2586 [01:32<00:00, 28.01it/s]\n"
     ]
    },
    {
     "name": "stdout",
     "output_type": "stream",
     "text": [
      "Epoch [8/20], Loss: 1.3975\n",
      "Validation Loss: 1.3859, Accuracy: 0.4971\n"
     ]
    },
    {
     "name": "stderr",
     "output_type": "stream",
     "text": [
      "Classifier Training Epoch 9/20: 100%|██████████| 2586/2586 [01:31<00:00, 28.24it/s]\n"
     ]
    },
    {
     "name": "stdout",
     "output_type": "stream",
     "text": [
      "Epoch [9/20], Loss: 1.3927\n",
      "Validation Loss: 1.3976, Accuracy: 0.4971\n"
     ]
    },
    {
     "name": "stderr",
     "output_type": "stream",
     "text": [
      "Classifier Training Epoch 10/20: 100%|██████████| 2586/2586 [01:31<00:00, 28.41it/s]\n"
     ]
    },
    {
     "name": "stdout",
     "output_type": "stream",
     "text": [
      "Epoch [10/20], Loss: 1.3857\n",
      "Validation Loss: 1.4103, Accuracy: 0.4881\n"
     ]
    },
    {
     "name": "stderr",
     "output_type": "stream",
     "text": [
      "Classifier Training Epoch 11/20: 100%|██████████| 2586/2586 [01:31<00:00, 28.23it/s]\n"
     ]
    },
    {
     "name": "stdout",
     "output_type": "stream",
     "text": [
      "Epoch [11/20], Loss: 1.3802\n",
      "Validation Loss: 1.3776, Accuracy: 0.4974\n"
     ]
    },
    {
     "name": "stderr",
     "output_type": "stream",
     "text": [
      "Classifier Training Epoch 12/20: 100%|██████████| 2586/2586 [01:33<00:00, 27.70it/s]\n"
     ]
    },
    {
     "name": "stdout",
     "output_type": "stream",
     "text": [
      "Epoch [12/20], Loss: 1.3738\n",
      "Validation Loss: 1.3642, Accuracy: 0.4996\n"
     ]
    },
    {
     "name": "stderr",
     "output_type": "stream",
     "text": [
      "Classifier Training Epoch 13/20: 100%|██████████| 2586/2586 [01:33<00:00, 27.65it/s]\n"
     ]
    },
    {
     "name": "stdout",
     "output_type": "stream",
     "text": [
      "Epoch [13/20], Loss: 1.3697\n",
      "Validation Loss: 1.3518, Accuracy: 0.5096\n"
     ]
    },
    {
     "name": "stderr",
     "output_type": "stream",
     "text": [
      "Classifier Training Epoch 14/20: 100%|██████████| 2586/2586 [01:02<00:00, 41.23it/s]\n"
     ]
    },
    {
     "name": "stdout",
     "output_type": "stream",
     "text": [
      "Epoch [14/20], Loss: 1.3688\n",
      "Validation Loss: 1.3692, Accuracy: 0.5032\n"
     ]
    },
    {
     "name": "stderr",
     "output_type": "stream",
     "text": [
      "Classifier Training Epoch 15/20: 100%|██████████| 2586/2586 [00:46<00:00, 56.07it/s]\n"
     ]
    },
    {
     "name": "stdout",
     "output_type": "stream",
     "text": [
      "Epoch [15/20], Loss: 1.3657\n",
      "Validation Loss: 1.3668, Accuracy: 0.4943\n"
     ]
    },
    {
     "name": "stderr",
     "output_type": "stream",
     "text": [
      "Classifier Training Epoch 16/20: 100%|██████████| 2586/2586 [00:45<00:00, 57.33it/s]\n"
     ]
    },
    {
     "name": "stdout",
     "output_type": "stream",
     "text": [
      "Epoch [16/20], Loss: 1.3604\n",
      "Validation Loss: 1.3635, Accuracy: 0.5018\n"
     ]
    },
    {
     "name": "stderr",
     "output_type": "stream",
     "text": [
      "Classifier Training Epoch 17/20: 100%|██████████| 2586/2586 [00:45<00:00, 56.69it/s]\n"
     ]
    },
    {
     "name": "stdout",
     "output_type": "stream",
     "text": [
      "Epoch [17/20], Loss: 1.3594\n",
      "Validation Loss: 1.3850, Accuracy: 0.4914\n"
     ]
    },
    {
     "name": "stderr",
     "output_type": "stream",
     "text": [
      "Classifier Training Epoch 18/20: 100%|██████████| 2586/2586 [00:45<00:00, 56.91it/s]\n"
     ]
    },
    {
     "name": "stdout",
     "output_type": "stream",
     "text": [
      "Epoch [18/20], Loss: 1.3554\n",
      "Validation Loss: 1.3687, Accuracy: 0.4956\n"
     ]
    },
    {
     "name": "stderr",
     "output_type": "stream",
     "text": [
      "Classifier Training Epoch 19/20: 100%|██████████| 2586/2586 [00:46<00:00, 55.92it/s]\n"
     ]
    },
    {
     "name": "stdout",
     "output_type": "stream",
     "text": [
      "Epoch [19/20], Loss: 1.3515\n",
      "Validation Loss: 1.3629, Accuracy: 0.5066\n"
     ]
    },
    {
     "name": "stderr",
     "output_type": "stream",
     "text": [
      "Classifier Training Epoch 20/20: 100%|██████████| 2586/2586 [00:46<00:00, 55.19it/s]\n"
     ]
    },
    {
     "name": "stdout",
     "output_type": "stream",
     "text": [
      "Epoch [20/20], Loss: 1.3452\n",
      "Validation Loss: 1.3622, Accuracy: 0.4917\n",
      "Test Accuracy: 0.4912\n",
      "Model saved to ./classifier_autoencoder_tissuemnist.pt\n"
     ]
    }
   ],
   "source": [
    "import torch\n",
    "import torch.nn as nn\n",
    "import torch.optim as optim\n",
    "from torch.utils.data import DataLoader, random_split\n",
    "import medmnist\n",
    "from medmnist import INFO, Evaluator\n",
    "from torchvision import transforms\n",
    "from tqdm import tqdm\n",
    "from sklearn.metrics import accuracy_score\n",
    "\n",
    "# Constants\n",
    "BATCH_SIZE = 64\n",
    "LATENT_DIM = 64\n",
    "EPOCHS = 20\n",
    "LEARNING_RATE = 0.001\n",
    "NUM_CLASSES = 8\n",
    "MODEL_SAVE_PATH = './classifier_autoencoder_tissuemnist.pt'\n",
    "\n",
    "# Select the dataset\n",
    "DATA_FLAG = 'tissuemnist'\n",
    "info = INFO[DATA_FLAG]\n",
    "DataClass = getattr(medmnist, info['python_class'])\n",
    "\n",
    "# Transformations\n",
    "transform = transforms.Compose([\n",
    "    transforms.ToTensor(),\n",
    "    transforms.Normalize(mean=[.5], std=[.5])\n",
    "])\n",
    "\n",
    "# Load the dataset\n",
    "train_dataset = DataClass(split='train', transform=transform, download=True)\n",
    "val_dataset = DataClass(split='val', transform=transform, download=True)\n",
    "test_dataset = DataClass(split='test', transform=transform, download=True)\n",
    "\n",
    "# Data loaders\n",
    "train_loader = DataLoader(train_dataset, batch_size=BATCH_SIZE, shuffle=True)\n",
    "val_loader = DataLoader(val_dataset, batch_size=BATCH_SIZE, shuffle=False)\n",
    "test_loader = DataLoader(test_dataset, batch_size=BATCH_SIZE, shuffle=False)\n",
    "\n",
    "# Autoencoder Model\n",
    "class Autoencoder(nn.Module):\n",
    "    def __init__(self, latent_dim):\n",
    "        super(Autoencoder, self).__init__()\n",
    "        self.encoder = nn.Sequential(\n",
    "            nn.Flatten(),\n",
    "            nn.Linear(28 * 28, 512),\n",
    "            nn.ReLU(),\n",
    "            nn.Linear(512, 256),\n",
    "            nn.ReLU(),\n",
    "            nn.Linear(256, latent_dim),\n",
    "        )\n",
    "        self.decoder = nn.Sequential(\n",
    "            nn.Linear(latent_dim, 256),\n",
    "            nn.ReLU(),\n",
    "            nn.Linear(256, 512),\n",
    "            nn.ReLU(),\n",
    "            nn.Linear(512, 28 * 28),\n",
    "            nn.Sigmoid(),\n",
    "            nn.Unflatten(1, (1, 28, 28))\n",
    "        )\n",
    "\n",
    "    def forward(self, x):\n",
    "        latent = self.encoder(x)\n",
    "        reconstructed = self.decoder(latent)\n",
    "        return reconstructed\n",
    "\n",
    "    def encode(self, x):\n",
    "        return self.encoder(x)\n",
    "\n",
    "# Classifier Model\n",
    "class Classifier(nn.Module):\n",
    "    def __init__(self, encoder, latent_dim, num_classes):\n",
    "        super(Classifier, self).__init__()\n",
    "        self.encoder = encoder\n",
    "        self.classifier = nn.Sequential(\n",
    "            nn.Linear(latent_dim, 128),\n",
    "            nn.ReLU(),\n",
    "            nn.Linear(128, num_classes)\n",
    "        )\n",
    "\n",
    "    def forward(self, x):\n",
    "        encoded = self.encoder(x)\n",
    "        return self.classifier(encoded)\n",
    "\n",
    "# Initialize models\n",
    "autoencoder = Autoencoder(latent_dim=LATENT_DIM)\n",
    "classifier = Classifier(autoencoder.encoder, LATENT_DIM, num_classes=NUM_CLASSES)\n",
    "\n",
    "# Loss and optimizer\n",
    "criterion_autoencoder = nn.MSELoss()\n",
    "criterion_classifier = nn.CrossEntropyLoss()\n",
    "optimizer_autoencoder = optim.Adam(autoencoder.parameters(), lr=LEARNING_RATE)\n",
    "optimizer_classifier = optim.Adam(classifier.parameters(), lr=LEARNING_RATE)\n",
    "\n",
    "# Training the Autoencoder\n",
    "def train_autoencoder(model, train_loader, optimizer, criterion, epochs):\n",
    "    model.train()\n",
    "    for epoch in range(epochs):\n",
    "        running_loss = 0.0\n",
    "        for images, _ in tqdm(train_loader, desc=f'Autoencoder Training Epoch {epoch + 1}/{epochs}'):\n",
    "            optimizer.zero_grad()\n",
    "            images = images.float()\n",
    "            reconstructed = model(images)\n",
    "            loss = criterion(reconstructed, images)\n",
    "            loss.backward()\n",
    "            optimizer.step()\n",
    "            running_loss += loss.item()\n",
    "        print(f'Epoch [{epoch + 1}/{epochs}], Loss: {running_loss / len(train_loader):.4f}')\n",
    "\n",
    "# Training the Classifier\n",
    "def train_classifier(model, train_loader, val_loader, optimizer, criterion, epochs):\n",
    "    model.train()\n",
    "    for epoch in range(epochs):\n",
    "        running_loss = 0.0\n",
    "        for images, labels in tqdm(train_loader, desc=f'Classifier Training Epoch {epoch + 1}/{epochs}'):\n",
    "            optimizer.zero_grad()\n",
    "            images = images.float()\n",
    "            labels = labels.squeeze().long()\n",
    "            outputs = model(images)\n",
    "            loss = criterion(outputs, labels)\n",
    "            loss.backward()\n",
    "            optimizer.step()\n",
    "            running_loss += loss.item()\n",
    "        print(f'Epoch [{epoch + 1}/{epochs}], Loss: {running_loss / len(train_loader):.4f}')\n",
    "        # Validation\n",
    "        val_loss, val_acc = validate_classifier(model, val_loader, criterion)\n",
    "        print(f'Validation Loss: {val_loss:.4f}, Accuracy: {val_acc:.4f}')\n",
    "\n",
    "# Validation function for the Classifier\n",
    "def validate_classifier(model, val_loader, criterion):\n",
    "    model.eval()\n",
    "    val_loss = 0.0\n",
    "    all_preds = []\n",
    "    all_labels = []\n",
    "    with torch.no_grad():\n",
    "        for images, labels in val_loader:\n",
    "            images = images.float()\n",
    "            labels = labels.squeeze().long()\n",
    "            outputs = model(images)\n",
    "            loss = criterion(outputs, labels)\n",
    "            val_loss += loss.item()\n",
    "            _, preds = torch.max(outputs, 1)\n",
    "            all_preds.extend(preds.cpu().numpy())\n",
    "            all_labels.extend(labels.cpu().numpy())\n",
    "    val_loss /= len(val_loader)\n",
    "    val_acc = accuracy_score(all_labels, all_preds)\n",
    "    return val_loss, val_acc\n",
    "\n",
    "# Testing the Classifier\n",
    "def test_classifier(model, test_loader):\n",
    "    model.eval()\n",
    "    all_preds = []\n",
    "    all_labels = []\n",
    "    with torch.no_grad():\n",
    "        for images, labels in test_loader:\n",
    "            images = images.float()\n",
    "            labels = labels.squeeze().long()\n",
    "            outputs = model(images)\n",
    "            _, preds = torch.max(outputs, 1)\n",
    "            all_preds.extend(preds.cpu().numpy())\n",
    "            all_labels.extend(labels.cpu().numpy())\n",
    "    test_acc = accuracy_score(all_labels, all_preds)\n",
    "    print(f'Test Accuracy: {test_acc:.4f}')\n",
    "\n",
    "# Training and evaluation\n",
    "if __name__ == '__main__':\n",
    "    train_autoencoder(autoencoder, train_loader, optimizer_autoencoder, criterion_autoencoder, epochs=EPOCHS)\n",
    "    train_classifier(classifier, train_loader, val_loader, optimizer_classifier, criterion_classifier, epochs=EPOCHS)\n",
    "    test_classifier(classifier, test_loader)\n",
    "\n",
    "    # Save the classifier model\n",
    "    torch.save(classifier.state_dict(), MODEL_SAVE_PATH)\n",
    "    print(f'Model saved to {MODEL_SAVE_PATH}')"
   ]
  }
 ],
 "metadata": {
  "kernelspec": {
   "display_name": "base",
   "language": "python",
   "name": "python3"
  },
  "language_info": {
   "codemirror_mode": {
    "name": "ipython",
    "version": 3
   },
   "file_extension": ".py",
   "mimetype": "text/x-python",
   "name": "python",
   "nbconvert_exporter": "python",
   "pygments_lexer": "ipython3",
   "version": "3.11.7"
  }
 },
 "nbformat": 4,
 "nbformat_minor": 2
}
