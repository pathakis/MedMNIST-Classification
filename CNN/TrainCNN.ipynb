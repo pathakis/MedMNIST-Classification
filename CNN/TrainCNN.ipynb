{
 "cells": [
  {
   "cell_type": "code",
   "execution_count": 30,
   "metadata": {},
   "outputs": [],
   "source": [
    "import numpy as np\n",
    "import scipy as sc\n",
    "import pandas as pd\n",
    "import matplotlib.pyplot as plt\n",
    "\n",
    "import medmnist\n",
    "from medmnist import INFO, Evaluator, PneumoniaMNIST, OrganAMNIST\n",
    "\n",
    "import torch\n",
    "import torchvision\n",
    "from torchvision import transforms\n",
    "from torch.utils.data import DataLoader\n",
    "import torch.nn as nn\n",
    "from torch import utils\n",
    "from torch import optim\n",
    "from torch import device\n",
    "from torch import inference_mode\n",
    "\n",
    "import tqdm\n",
    "from timeit import default_timer as timer\n",
    "from tqdm.auto import tqdm\n",
    "from torchmetrics import ConfusionMatrix\n",
    "\n",
    "import mlxtend\n",
    "from mlxtend.plotting import plot_confusion_matrix"
   ]
  },
  {
   "cell_type": "code",
   "execution_count": 31,
   "metadata": {},
   "outputs": [
    {
     "name": "stdout",
     "output_type": "stream",
     "text": [
      "Using downloaded and verified file: /Users/oscarrosman/.medmnist/organamnist.npz\n",
      "Using downloaded and verified file: /Users/oscarrosman/.medmnist/organamnist.npz\n",
      "Using downloaded and verified file: /Users/oscarrosman/.medmnist/organamnist.npz\n"
     ]
    }
   ],
   "source": [
    "device = \"cuda\" if torch.cuda.is_available() else \"cpu\"\n",
    "device = \"mps\" if torch.backends.mps.is_available() else device\n",
    "\n",
    "data_flag = 'organamnist'\n",
    "info = INFO[data_flag]\n",
    "DataClass = getattr(medmnist, info['python_class'])\n",
    "\n",
    "data_transform = transforms.Compose([\n",
    "    transforms.ToTensor(),\n",
    "    transforms.Normalize(mean=[.5], std=[.5])\n",
    "])\n",
    "\n",
    "train_data = OrganAMNIST(split='train', transform=data_transform, download=True)\n",
    "test_data = OrganAMNIST(split='test', transform=data_transform, download=True)\n",
    "val_data = OrganAMNIST(split='val', transform=data_transform, download=True)\n",
    "\n",
    "#train_data = DataClass(split='train', transform=data_transform, download=True)\n",
    "#test_data = DataClass(split='test', transform=data_transform, download=True)\n",
    "#val_data = DataClass(split='val', transform=data_transform, download=True)"
   ]
  },
  {
   "cell_type": "code",
   "execution_count": 32,
   "metadata": {},
   "outputs": [
    {
     "name": "stdout",
     "output_type": "stream",
     "text": [
      "Image:\n",
      " tensor([[[-1.0000, -1.0000, -1.0000, -1.0000, -0.1294, -0.6314, -0.4667,\n",
      "           0.0902,  0.2235, -0.0196, -0.6471, -0.0431,  0.1765,  0.1686,\n",
      "           0.4667,  0.2627,  0.7176,  0.1608,  0.0431,  0.3255,  0.3412,\n",
      "           0.0902, -0.1373, -0.3098, -0.6627, -0.3569, -1.0000, -1.0000],\n",
      "         [-1.0000, -1.0000,  0.0510, -0.5137,  0.0118, -0.1137,  0.8118,\n",
      "           1.0000,  1.0000,  0.1529,  0.0275,  0.3569,  0.5059,  0.2941,\n",
      "           0.1843,  0.3098,  0.4039,  0.3333,  0.3333,  0.3569,  0.4510,\n",
      "           0.2706,  0.9529,  0.4510, -0.0980,  0.1373, -0.6157, -0.0118],\n",
      "         [-1.0000, -0.1373, -0.4588, -0.5059, -0.0275,  0.2392,  1.0000,\n",
      "           0.9686,  0.0275,  0.1843,  0.2392,  0.1843,  0.4431,  0.6941,\n",
      "           0.4431,  0.1686,  0.5059,  0.3333,  0.2078,  0.4745,  0.2863,\n",
      "           0.3961,  0.2863,  0.9843,  1.0000, -0.2157,  0.0353, -0.6941],\n",
      "         [-1.0000, -0.4824, -0.4980, -0.1529,  0.1686,  0.2000, -0.2627,\n",
      "           0.3569,  0.5059,  0.1843,  0.5765,  0.2706,  0.4275,  0.4902,\n",
      "           0.2392,  0.3490,  0.5765,  0.2471,  0.2784,  0.3804,  0.2235,\n",
      "           0.5216,  0.3882,  0.3020,  0.2157,  0.6549, -0.3176,  0.1843],\n",
      "         [-0.7647, -0.5529, -0.1216,  0.3020, -0.4824, -0.2235,  0.1137,\n",
      "           0.3882,  0.5451,  0.3333,  0.4667,  0.2000,  0.5373,  0.2627,\n",
      "           0.4039,  0.3882,  0.3490,  0.1137,  0.1294,  0.4431,  0.4510,\n",
      "           0.4039,  0.2863,  0.5529,  0.4824,  0.2157,  0.2471, -0.4510],\n",
      "         [-0.5216, -0.6863, -0.3255, -0.0980, -0.3333, -0.1686, -0.0980,\n",
      "           0.3490,  0.3882,  0.3569,  0.1529,  0.3961,  0.4118,  0.3333,\n",
      "           0.6000,  0.2784,  0.7412,  0.4431,  0.2000,  0.6078,  0.5059,\n",
      "           0.5529,  0.3569,  0.4902,  0.5137,  0.3569,  0.1451, -0.4118],\n",
      "         [-0.7569, -0.3569,  0.1529, -0.3490,  0.0745,  0.2078, -0.0275,\n",
      "           0.3176,  0.0667,  0.1686,  0.4745,  0.6235,  0.4196,  0.3176,\n",
      "           0.3176,  0.7804,  0.2000,  0.3882,  0.4196,  0.3490,  0.3020,\n",
      "           0.3176,  0.3333,  0.3569,  0.3569,  0.3333,  0.4196,  0.0824],\n",
      "         [-0.4980,  0.0745, -0.5137, -0.5608,  0.4039,  0.0353, -0.2784,\n",
      "           0.1765, -0.0118,  0.4431,  0.4431,  0.2863,  0.4353,  0.2157,\n",
      "           0.4196,  0.5373,  0.0431,  0.4510,  0.1608,  0.2706,  0.3098,\n",
      "           0.3412,  0.4902,  0.4667,  0.1294,  0.3255,  0.2157,  0.0510],\n",
      "         [-0.5608,  0.1059, -0.5922,  0.6157,  0.0353,  0.0902, -0.0118,\n",
      "           0.2157,  0.1216,  0.0431,  0.3647,  0.0745,  0.3020,  0.2863,\n",
      "           0.3333,  0.2627,  0.5451,  0.6471,  0.4745,  0.2471,  0.3882,\n",
      "           0.4353,  0.3020,  0.5373,  0.4431,  0.2784,  0.4196,  0.1137],\n",
      "         [-0.3961, -0.0431,  0.0353,  0.1843,  0.0353, -0.0824, -0.1608,\n",
      "           0.1137,  0.0510,  0.2784,  0.7333,  0.2549,  0.6157,  0.3569,\n",
      "           0.3804, -0.0667,  0.3255,  0.4118,  0.4353,  0.1529,  0.1608,\n",
      "           0.6314,  0.5059,  0.3412,  0.2549,  0.5843,  0.2784, -0.2314],\n",
      "         [-0.4431, -0.3098, -0.3176,  0.1294, -0.0980, -0.1373, -0.0667,\n",
      "           0.3725, -0.1765,  0.2314,  0.4510,  0.5843,  0.3098,  0.5843,\n",
      "           0.5529,  0.2235,  0.7882,  0.1686,  0.4824,  0.4431,  0.5059,\n",
      "           0.2706, -0.0275, -0.0196, -0.4196, -0.3333, -0.5059, -0.5451],\n",
      "         [ 0.2157,  0.3098,  0.0431, -0.1216,  0.3412, -0.0510,  0.2706,\n",
      "          -0.0588, -0.0510, -0.0745,  0.6627,  0.2314,  0.4039,  0.3725,\n",
      "           0.5059,  0.3333,  0.5529,  0.0902,  0.2784,  0.7569,  0.5765,\n",
      "          -0.2941, -0.6706, -0.4510, -0.5373, -0.6235, -0.4980, -0.4118],\n",
      "         [ 0.0667, -0.0588,  0.2314, -0.1608,  0.1922,  0.1529,  0.2627,\n",
      "          -0.0667,  0.2157,  0.0667,  0.3961,  0.4824,  0.1294,  0.2863,\n",
      "           0.5373,  0.5216,  0.7961,  0.1843,  0.5765,  0.3176, -0.0824,\n",
      "          -0.4275, -0.6392, -0.5686, -0.4196, -0.4588, -0.5294, -0.1294],\n",
      "         [ 0.0980,  0.3255,  0.4824,  0.3725,  0.0275,  0.1922,  0.2784,\n",
      "           0.1373,  0.2078,  0.4588,  0.4824, -0.3333,  0.0118, -0.5922,\n",
      "           0.5529,  0.6706,  0.0902,  0.1059,  0.3098, -0.1529, -0.5294,\n",
      "          -0.7098, -0.0353, -0.3333, -0.6941, -0.6706,  0.0431,  0.2549],\n",
      "         [-0.2000,  0.1529,  0.7412,  0.7412,  0.2235,  0.2549,  0.2235,\n",
      "           0.3961,  0.3725,  0.5373,  0.1686, -0.5294, -0.0039, -0.9216,\n",
      "           0.5294,  0.4824,  0.5216,  0.6471, -0.5373, -0.5843, -0.7882,\n",
      "          -0.6000, -0.7098, -0.4510, -0.4667, -0.5922,  0.2627,  0.2392],\n",
      "         [-0.4902,  0.0902,  0.4745,  0.4667,  0.5529,  0.3804,  0.2157,\n",
      "           0.3961,  0.2706,  0.4431,  0.1216, -0.3255, -0.0745, -0.1137,\n",
      "           0.2392, -0.0902,  0.1843, -0.2784, -0.5294, -0.3490, -0.4902,\n",
      "          -0.6549, -0.4118, -0.7490, -0.7961, -0.1843,  0.5216,  0.1294],\n",
      "         [-0.8118, -0.1451, -0.4196, -0.5216, -0.4667,  0.3961,  0.3412,\n",
      "           0.0431,  0.1059,  0.1059, -0.7725,  0.0824, -0.4196, -0.2235,\n",
      "           0.3255,  0.6000,  0.5373, -0.5373, -0.2549, -0.5294, -0.6000,\n",
      "          -0.1451, -0.5922, -0.6157,  0.1843,  0.4275, -0.0353,  0.1529],\n",
      "         [-0.4588, -0.4353, -0.3804, -0.1059, -0.3647, -0.6000, -0.4745,\n",
      "          -0.4275, -0.6627, -0.6549,  0.0667, -0.5765, -0.5686, -0.1451,\n",
      "           0.6157,  0.5451,  0.5843,  0.0667,  0.0353, -0.0431,  0.0510,\n",
      "           0.4275,  0.2471,  0.1765,  0.3176,  0.1922,  0.2863,  0.2549],\n",
      "         [-0.7255, -0.6941, -0.5216, -0.7176, -0.2549, -0.4667,  0.2235,\n",
      "           0.0353,  0.0745, -0.6549, -0.4588,  0.8275,  0.5765,  0.5686,\n",
      "           0.6863,  0.4353,  0.0353,  0.2000,  0.2157,  0.3176, -0.0431,\n",
      "           0.5059,  1.0000,  1.0000, -0.1922,  0.3333, -0.0980, -0.3961],\n",
      "         [-0.7647, -0.3961, -0.2549, -0.4353,  0.2235, -0.6549, -0.0353,\n",
      "           0.3333,  0.0824,  0.1529, -0.1451,  0.7490,  0.4510,  0.3804,\n",
      "          -0.2314, -0.3569,  0.2157,  0.4275,  0.4510,  0.2078,  0.0745,\n",
      "          -0.1059,  0.0902,  0.9137,  0.0980, -0.1294, -0.4902,  0.0510],\n",
      "         [-0.5059, -0.4275, -0.3882, -0.1137, -0.2863,  0.2471, -0.3961,\n",
      "           0.2000, -0.0196, -0.0039,  0.3490,  0.6471, -0.5216,  0.1137,\n",
      "          -0.4745, -0.3569,  0.5529,  0.2549,  0.3490,  0.2235,  0.2000,\n",
      "           0.3176,  0.5529,  0.7255, -0.0745,  0.1529,  1.0000,  0.1529],\n",
      "         [-0.1922, -0.6314,  0.4196, -0.1843, -0.3647,  0.2706,  0.1686,\n",
      "           0.2000,  0.3569,  0.3804,  0.3020, -0.3961, -0.2000, -0.3725,\n",
      "           0.1686,  0.3882,  0.5686,  0.8745,  0.1059,  0.1373,  0.3098,\n",
      "           0.6863,  1.0000,  0.7882, -0.1608,  0.2000,  1.0000,  1.0000],\n",
      "         [-0.6706, -0.5529,  0.3412, -0.6627,  0.2706,  0.0902,  0.0431,\n",
      "          -0.1765,  0.3569,  0.2471,  0.1216, -0.3098, -0.5373, -0.3569,\n",
      "           0.1765,  0.2078,  0.6078,  0.5843,  0.3725,  0.2000,  0.2471,\n",
      "           0.3804,  1.0000,  1.0000,  0.1843, -0.1216,  1.0000,  0.1137],\n",
      "         [-0.7569, -0.6627, -0.6392, -0.4667, -0.0118, -0.5137, -0.7569,\n",
      "          -0.0824,  0.3176,  0.5059,  0.0667, -0.3020, -0.7804, -0.7647,\n",
      "          -0.2314, -0.1608,  0.2706,  0.4039, -0.3255,  0.4118,  0.3569,\n",
      "           0.7020,  1.0000,  1.0000,  0.0902,  0.4118,  1.0000,  0.3176],\n",
      "         [-0.5608, -0.7647, -0.3412, -0.4431, -0.5686, -0.7961, -0.4824,\n",
      "          -0.5137,  0.3569,  0.3333,  0.3412,  0.3725, -0.4824, -0.8196,\n",
      "          -0.3569, -0.2706, -0.1686,  0.0118,  0.2392,  0.2157,  0.2000,\n",
      "           1.0000,  0.8824,  0.3098, -0.1765, -0.0118,  0.0745,  1.0000],\n",
      "         [-0.5529, -0.3804, -0.4431, -0.7255, -0.5608, -0.4118, -0.6157,\n",
      "          -0.1529, -0.6314,  0.1059,  0.2549,  0.4118,  0.5843,  0.4667,\n",
      "          -0.2235,  0.2157,  0.2706, -0.5451, -0.1373, -0.5137, -0.1765,\n",
      "          -0.4196,  0.1059,  0.0353,  0.1765,  0.3020, -0.1608,  0.1765],\n",
      "         [-0.4510, -0.6706, -0.6549, -0.5765, -0.0667, -0.3961, -0.5137,\n",
      "           0.1922,  0.1137, -0.1216,  0.2706, -0.0196,  0.0745,  0.5529,\n",
      "          -0.4902,  0.2078, -0.3569, -0.3569, -0.2471, -0.5451, -0.1922,\n",
      "          -0.6784, -0.6000, -0.2157,  0.2863,  0.3804,  0.0667,  0.2078],\n",
      "         [-0.3176, -0.4980, -0.2863,  0.3020, -0.1843, -0.0118, -0.3647,\n",
      "           0.2706,  0.1216,  0.4902,  0.2000,  0.3333,  0.6863,  0.2706,\n",
      "           0.0745,  0.0431, -0.3020, -0.9216, -0.2157, -0.1059, -0.0510,\n",
      "          -0.4196, -0.4745, -0.3961, -0.3176,  0.0745, -0.2392,  0.0196]]])\n",
      "Label:\n",
      " [6]\n",
      "Image shape: torch.Size([1, 28, 28])\n",
      "Label: [6]\n"
     ]
    }
   ],
   "source": [
    "# Checking Data Organization\n",
    "img = train_data[0][0]\n",
    "label = train_data[0][1]\n",
    "\n",
    "print(f\"Image:\\n {img}\") \n",
    "print(f\"Label:\\n {label}\")\n",
    "\n",
    "print(f\"Image shape: {img.shape}\")\n",
    "print(f\"Label: {label}\")"
   ]
  },
  {
   "cell_type": "code",
   "execution_count": 33,
   "metadata": {},
   "outputs": [
    {
     "name": "stdout",
     "output_type": "stream",
     "text": [
      "number of channels: 1\n",
      "number of classes: 11\n",
      "class names: {'0': 'bladder', '1': 'femur-left', '2': 'femur-right', '3': 'heart', '4': 'kidney-left', '5': 'kidney-right', '6': 'liver', '7': 'lung-left', '8': 'lung-right', '9': 'pancreas', '10': 'spleen'}\n"
     ]
    }
   ],
   "source": [
    "# Number of image channels\n",
    "n_channels = info['n_channels']\n",
    "print(f\"number of channels: {n_channels}\")\n",
    "\n",
    "# Number of classes\n",
    "n_classes = len(info['label'])\n",
    "print(f\"number of classes: {n_classes}\")\n",
    "\n",
    "# Get the class names from the dataset\n",
    "class_names = info['label']\n",
    "print(f\"class names: {class_names}\")"
   ]
  },
  {
   "cell_type": "code",
   "execution_count": 34,
   "metadata": {},
   "outputs": [
    {
     "data": {
      "image/png": "[encoded data removed]",
      "text/plain": [
       "<Figure size 300x300 with 1 Axes>"
      ]
     },
     "metadata": {},
     "output_type": "display_data"
    },
    {
     "data": {
      "image/png": "[encoded data removed]",
      "text/plain": [
       "<Figure size 300x300 with 1 Axes>"
      ]
     },
     "metadata": {},
     "output_type": "display_data"
    },
    {
     "data": {
      "image/png": "[encoded data removed]",
      "text/plain": [
       "<Figure size 300x300 with 1 Axes>"
      ]
     },
     "metadata": {},
     "output_type": "display_data"
    }
   ],
   "source": [
    "# Test Plots\n",
    "for i in range(3):\n",
    "    img = train_data[i][0]\n",
    "    label = train_data[i][1]\n",
    "    plt.figure(figsize=(3, 3))\n",
    "    plt.imshow(img.permute(1, 2, 0))\n",
    "    plt.title(label)\n",
    "    plt.axis(False);"
   ]
  },
  {
   "cell_type": "code",
   "execution_count": 35,
   "metadata": {},
   "outputs": [
    {
     "name": "stdout",
     "output_type": "stream",
     "text": [
      "<torch.utils.data.dataloader.DataLoader object at 0x34cf16480>\n"
     ]
    }
   ],
   "source": [
    "# Dataloader\n",
    "BATCH_SIZE = 64\n",
    "train_dataloader = DataLoader(dataset=train_data, batch_size=BATCH_SIZE, shuffle=True)\n",
    "print(train_dataloader)\n",
    "val_dataloader = DataLoader(dataset=val_data, batch_size=BATCH_SIZE, shuffle=False)\n",
    "test_dataloader = DataLoader(dataset=test_data, batch_size=BATCH_SIZE, shuffle=False)"
   ]
  },
  {
   "cell_type": "code",
   "execution_count": 36,
   "metadata": {},
   "outputs": [
    {
     "name": "stdout",
     "output_type": "stream",
     "text": [
      "Dataloaders: (<torch.utils.data.dataloader.DataLoader object at 0x34cf16480>, <torch.utils.data.dataloader.DataLoader object at 0x34bc998b0>)\n",
      "Length of train dataloader: 541 batches of 64\n",
      "Length of test dataloader: 278 batches of 64\n",
      "Length of val dataloader: 102 batches of 64\n"
     ]
    }
   ],
   "source": [
    "# Test Dataloader\n",
    "print(f\"Dataloaders: {train_dataloader, test_dataloader}\")\n",
    "print(f\"Length of train dataloader: {len(train_dataloader)} batches of {BATCH_SIZE}\")\n",
    "print(f\"Length of test dataloader: {len(test_dataloader)} batches of {BATCH_SIZE}\")\n",
    "print(f\"Length of val dataloader: {len(val_dataloader)} batches of {BATCH_SIZE}\")"
   ]
  },
  {
   "cell_type": "code",
   "execution_count": 48,
   "metadata": {},
   "outputs": [],
   "source": [
    "def train_step(model: torch.nn.Module,\n",
    "               data_loader: torch.utils.data.DataLoader,\n",
    "               loss_fn: torch.nn.Module,\n",
    "               optimizer: torch.optim.Optimizer,\n",
    "               accuracy_fn,\n",
    "               device: torch.device = device):\n",
    "    \n",
    "    train_loss, train_acc = 0, 0\n",
    "    model.to(device)\n",
    "    \n",
    "    for batch, (X, y) in enumerate(data_loader):\n",
    "        # need to change target shape for this medmnist data \n",
    "        y = y.squeeze().long()\n",
    "        \n",
    "        # Send data to selected device\n",
    "        X, y = X.to(device), y.to(device)\n",
    "\n",
    "        # 1. Forward pass\n",
    "        y_pred = model(X)\n",
    "\n",
    "        # 2. loss and accuracy\n",
    "        try:\n",
    "            temp = y.shape[0]\n",
    "        except:\n",
    "            continue\n",
    "        \n",
    "        loss = loss_fn(y_pred, y)\n",
    "        train_loss += loss\n",
    "        train_acc += accuracy_fn(y_true=y,\n",
    "                                 y_pred=y_pred.argmax(dim=1))\n",
    "\n",
    "        # 3. Optimizer zero grad\n",
    "        optimizer.zero_grad()\n",
    "\n",
    "        # 4. Loss backward\n",
    "        loss.backward()\n",
    "\n",
    "        # 5. Optimizer step\n",
    "        optimizer.step()\n",
    "\n",
    "    # Calculate loss and accuracy per epoch \n",
    "    train_loss /= len(data_loader)\n",
    "    train_acc /= len(data_loader)\n",
    "    \n",
    "    return train_loss, train_acc"
   ]
  },
  {
   "cell_type": "code",
   "execution_count": 38,
   "metadata": {},
   "outputs": [],
   "source": [
    "def test_step(data_loader: torch.utils.data.DataLoader,\n",
    "              model: torch.nn.Module,\n",
    "              loss_fn: torch.nn.Module,\n",
    "              accuracy_fn,\n",
    "              device: torch.device = device):\n",
    "    \n",
    "    test_loss, test_acc = 0, 0\n",
    "    model.to(device)\n",
    "    \n",
    "    model.eval() # eval mode for testing\n",
    "    with torch.inference_mode(): # Inference context manager\n",
    "        for X, y in data_loader:\n",
    "            # need to change target shape for this medmnist data \n",
    "            y = y.squeeze().long()\n",
    "            \n",
    "            # Send data to selected device\n",
    "            X, y = X.to(device), y.to(device)\n",
    "\n",
    "            # 1. Forward pass\n",
    "            test_pred = model(X)\n",
    "\n",
    "            # 2. Calculate loss and accuracy\n",
    "            test_loss += loss_fn(test_pred, y)\n",
    "            test_acc += accuracy_fn(y_true=y,\n",
    "                                    y_pred=test_pred.argmax(dim=1))\n",
    "\n",
    "        # Adjust metrics and print out\n",
    "        test_loss /= len(data_loader)\n",
    "        test_acc /= len(data_loader)\n",
    "        \n",
    "        return test_loss, test_acc"
   ]
  },
  {
   "cell_type": "code",
   "execution_count": 39,
   "metadata": {},
   "outputs": [],
   "source": [
    "def eval_func(data_loader: torch.utils.data.DataLoader,\n",
    "              model: torch.nn.Module,\n",
    "              loss_fn: torch.nn.Module,\n",
    "              accuracy_fn,\n",
    "              device: torch.device = device):\n",
    "    \n",
    "    eval_loss, eval_acc = 0, 0\n",
    "    model.to(device)\n",
    "    \n",
    "    model.eval()\n",
    "    y_preds = []\n",
    "    y_targets = []\n",
    "    with torch.inference_mode():\n",
    "        for batch, (X, y) in tqdm(enumerate(data_loader)):\n",
    "            # need to change target shape for this medmnist data \n",
    "            y = y.squeeze().long()\n",
    "            \n",
    "            # Send data to selected device\n",
    "            X, y = X.to(device), y.to(device)\n",
    "            \n",
    "            # Forward pass\n",
    "            eval_pred = model(X)\n",
    "            \n",
    "            # Find loss and accuracy\n",
    "            eval_loss += loss_fn(eval_pred, y)\n",
    "            eval_acc += accuracy_fn(y_true=y,\n",
    "                                    y_pred=eval_pred.argmax(dim=1))\n",
    "\n",
    "            # Add prediction and target labels to list\n",
    "            eval_labels = torch.argmax(torch.softmax(eval_pred, dim=1), dim=1)\n",
    "            y_preds.append(eval_labels)\n",
    "            y_targets.append(y)\n",
    "\n",
    "        # Scale loss and acc \n",
    "        eval_loss /= len(data_loader)\n",
    "        eval_acc /= len(data_loader)\n",
    "        \n",
    "        # Put predictions on CPU for evaluation\n",
    "        y_preds=torch.cat(y_preds).cpu() \n",
    "        y_targets=torch.cat(y_targets).cpu() \n",
    "        \n",
    "        return {\"model_name\": model.__class__.__name__, \n",
    "                \"loss\": eval_loss.item(),\n",
    "                \"accuracy\": eval_acc,\n",
    "                \"predictions\": y_preds,\n",
    "                \"targets\": y_targets}"
   ]
  },
  {
   "cell_type": "code",
   "execution_count": 40,
   "metadata": {},
   "outputs": [],
   "source": [
    "def print_train_time(start: float, end: float, device: torch.device = None):\n",
    "    total_time = end - start\n",
    "    print(f\"Train time on {device}: {total_time:.3f} seconds\")\n",
    "    return total_time"
   ]
  },
  {
   "cell_type": "code",
   "execution_count": 41,
   "metadata": {},
   "outputs": [],
   "source": [
    "def accuracy_fn(y_true, y_pred):\n",
    "    correct = torch.eq(y_true, y_pred).sum().item() \n",
    "    acc = (correct / len(y_pred)) * 100 \n",
    "    return acc"
   ]
  },
  {
   "cell_type": "code",
   "execution_count": 42,
   "metadata": {},
   "outputs": [
    {
     "data": {
      "text/plain": [
       "cnn(\n",
       "  (layer1): Sequential(\n",
       "    (0): Conv2d(1, 16, kernel_size=(3, 3), stride=(1, 1))\n",
       "    (1): BatchNorm2d(16, eps=1e-05, momentum=0.1, affine=True, track_running_stats=True)\n",
       "    (2): ReLU()\n",
       "  )\n",
       "  (layer2): Sequential(\n",
       "    (0): Conv2d(16, 16, kernel_size=(3, 3), stride=(1, 1))\n",
       "    (1): BatchNorm2d(16, eps=1e-05, momentum=0.1, affine=True, track_running_stats=True)\n",
       "    (2): ReLU()\n",
       "    (3): MaxPool2d(kernel_size=2, stride=2, padding=0, dilation=1, ceil_mode=False)\n",
       "  )\n",
       "  (layer3): Sequential(\n",
       "    (0): Conv2d(16, 64, kernel_size=(3, 3), stride=(1, 1))\n",
       "    (1): BatchNorm2d(64, eps=1e-05, momentum=0.1, affine=True, track_running_stats=True)\n",
       "    (2): ReLU()\n",
       "  )\n",
       "  (layer4): Sequential(\n",
       "    (0): Conv2d(64, 64, kernel_size=(3, 3), stride=(1, 1))\n",
       "    (1): BatchNorm2d(64, eps=1e-05, momentum=0.1, affine=True, track_running_stats=True)\n",
       "    (2): ReLU()\n",
       "  )\n",
       "  (layer5): Sequential(\n",
       "    (0): Conv2d(64, 64, kernel_size=(3, 3), stride=(1, 1), padding=(1, 1))\n",
       "    (1): BatchNorm2d(64, eps=1e-05, momentum=0.1, affine=True, track_running_stats=True)\n",
       "    (2): ReLU()\n",
       "    (3): MaxPool2d(kernel_size=2, stride=2, padding=0, dilation=1, ceil_mode=False)\n",
       "  )\n",
       "  (fc): Sequential(\n",
       "    (0): Linear(in_features=1024, out_features=128, bias=True)\n",
       "    (1): ReLU()\n",
       "    (2): Linear(in_features=128, out_features=128, bias=True)\n",
       "    (3): ReLU()\n",
       "    (4): Linear(in_features=128, out_features=11, bias=True)\n",
       "  )\n",
       ")"
      ]
     },
     "execution_count": 42,
     "metadata": {},
     "output_type": "execute_result"
    }
   ],
   "source": [
    "class cnn(torch.nn.Module):\n",
    "    def __init__(self, input_shape: int, hidden_units: int, output_shape: int):\n",
    "        super().__init__()\n",
    "\n",
    "        self.layer1 = nn.Sequential(\n",
    "            nn.Conv2d(in_channels=input_shape,\n",
    "                      out_channels=hidden_units, \n",
    "                      kernel_size=3),\n",
    "            nn.BatchNorm2d(hidden_units),\n",
    "            nn.ReLU())\n",
    "\n",
    "        self.layer2 = nn.Sequential(\n",
    "            nn.Conv2d(in_channels=hidden_units, \n",
    "                      out_channels=hidden_units, \n",
    "                      kernel_size=3),\n",
    "            nn.BatchNorm2d(hidden_units),\n",
    "            nn.ReLU(),\n",
    "            nn.MaxPool2d(kernel_size=2, \n",
    "                         stride=2))\n",
    "\n",
    "        self.layer3 = nn.Sequential(\n",
    "            nn.Conv2d(in_channels=hidden_units, \n",
    "                      out_channels=hidden_units*4, \n",
    "                      kernel_size=3),\n",
    "            nn.BatchNorm2d(hidden_units*4),\n",
    "            nn.ReLU())\n",
    "        \n",
    "        self.layer4 = nn.Sequential(\n",
    "            nn.Conv2d(in_channels=hidden_units*4, \n",
    "                      out_channels=hidden_units*4, \n",
    "                      kernel_size=3),\n",
    "            nn.BatchNorm2d(hidden_units*4),\n",
    "            nn.ReLU())\n",
    "\n",
    "        self.layer5 = nn.Sequential(\n",
    "            nn.Conv2d(in_channels=hidden_units*4, \n",
    "                      out_channels=hidden_units*4, \n",
    "                      kernel_size=3,\n",
    "                      padding=1),\n",
    "            nn.BatchNorm2d(hidden_units*4),\n",
    "            nn.ReLU(),\n",
    "            nn.MaxPool2d(kernel_size=2, \n",
    "                         stride=2))\n",
    "\n",
    "        self.fc = nn.Sequential(\n",
    "            nn.Linear(hidden_units*4 * 4 * 4, hidden_units*8),\n",
    "            nn.ReLU(),\n",
    "            nn.Linear(hidden_units*8, hidden_units*8),\n",
    "            nn.ReLU(),\n",
    "            nn.Linear(hidden_units*8, n_classes))\n",
    "\n",
    "    def forward(self, x):\n",
    "        x = self.layer1(x)\n",
    "        x = self.layer2(x)\n",
    "        x = self.layer3(x)\n",
    "        x = self.layer4(x)\n",
    "        x = self.layer5(x)\n",
    "        x = x.view(x.size(0), -1)\n",
    "        x = self.fc(x)\n",
    "        return x\n",
    "\n",
    "    \n",
    "# Define Model\n",
    "model = cnn(input_shape=n_channels, \n",
    "                     hidden_units=16,\n",
    "                     output_shape=n_classes).to(device)\n",
    "\n",
    "\n",
    "# Setup loss and optimizer\n",
    "loss_fn = nn.CrossEntropyLoss()\n",
    "optimizer = torch.optim.SGD(model.parameters(), lr=0.001, momentum=0.9)\n",
    "\n",
    "# View Model\n",
    "model"
   ]
  },
  {
   "cell_type": "code",
   "execution_count": 49,
   "metadata": {},
   "outputs": [
    {
     "name": "stderr",
     "output_type": "stream",
     "text": [
      "  2%|▏         | 1/50 [00:09<07:30,  9.20s/it]"
     ]
    },
    {
     "name": "stdout",
     "output_type": "stream",
     "text": [
      "Epoch: 0 | Training loss: 0.117 | Training acc: 95.89 | Test loss: 0.605 | Test acc: 83.72\n",
      "Saving best model for epoch: 0\n"
     ]
    },
    {
     "name": "stderr",
     "output_type": "stream",
     "text": [
      "  4%|▍         | 2/50 [00:18<07:15,  9.07s/it]"
     ]
    },
    {
     "name": "stdout",
     "output_type": "stream",
     "text": [
      "Epoch: 1 | Training loss: 0.081 | Training acc: 97.15 | Test loss: 0.589 | Test acc: 84.61\n",
      "Saving best model for epoch: 1\n"
     ]
    },
    {
     "name": "stderr",
     "output_type": "stream",
     "text": [
      "  4%|▍         | 2/50 [00:22<09:01, 11.28s/it]\n"
     ]
    },
    {
     "ename": "KeyboardInterrupt",
     "evalue": "",
     "output_type": "error",
     "traceback": [
      "\u001b[0;31m---------------------------------------------------------------------------\u001b[0m",
      "\u001b[0;31mKeyboardInterrupt\u001b[0m                         Traceback (most recent call last)",
      "Cell \u001b[0;32mIn[49], line 16\u001b[0m\n\u001b[1;32m     14\u001b[0m \u001b[38;5;66;03m# call train and test function\u001b[39;00m\n\u001b[1;32m     15\u001b[0m \u001b[38;5;28;01mfor\u001b[39;00m epoch \u001b[38;5;129;01min\u001b[39;00m tqdm(\u001b[38;5;28mrange\u001b[39m(epochs)):\n\u001b[0;32m---> 16\u001b[0m     train_loss, train_acc \u001b[38;5;241m=\u001b[39m \u001b[43mtrain_step\u001b[49m\u001b[43m(\u001b[49m\u001b[43mdata_loader\u001b[49m\u001b[38;5;241;43m=\u001b[39;49m\u001b[43mtrain_dataloader\u001b[49m\u001b[43m,\u001b[49m\n\u001b[1;32m     17\u001b[0m \u001b[43m                                       \u001b[49m\u001b[43mmodel\u001b[49m\u001b[38;5;241;43m=\u001b[39;49m\u001b[43mmodel\u001b[49m\u001b[43m,\u001b[49m\n\u001b[1;32m     18\u001b[0m \u001b[43m                                       \u001b[49m\u001b[43mloss_fn\u001b[49m\u001b[43m \u001b[49m\u001b[38;5;241;43m=\u001b[39;49m\u001b[43m \u001b[49m\u001b[43mloss_fn\u001b[49m\u001b[43m,\u001b[49m\n\u001b[1;32m     19\u001b[0m \u001b[43m                                       \u001b[49m\u001b[43moptimizer\u001b[49m\u001b[38;5;241;43m=\u001b[39;49m\u001b[43moptimizer\u001b[49m\u001b[43m,\u001b[49m\n\u001b[1;32m     20\u001b[0m \u001b[43m                                       \u001b[49m\u001b[43maccuracy_fn\u001b[49m\u001b[38;5;241;43m=\u001b[39;49m\u001b[43maccuracy_fn\u001b[49m\u001b[43m,\u001b[49m\n\u001b[1;32m     21\u001b[0m \u001b[43m                                       \u001b[49m\u001b[43mdevice\u001b[49m\u001b[38;5;241;43m=\u001b[39;49m\u001b[43mdevice\u001b[49m\u001b[43m)\u001b[49m\n\u001b[1;32m     23\u001b[0m     test_loss, test_acc \u001b[38;5;241m=\u001b[39m test_step(data_loader\u001b[38;5;241m=\u001b[39mtest_dataloader,\n\u001b[1;32m     24\u001b[0m                                     model\u001b[38;5;241m=\u001b[39mmodel,\n\u001b[1;32m     25\u001b[0m                                     loss_fn\u001b[38;5;241m=\u001b[39mloss_fn,\n\u001b[1;32m     26\u001b[0m                                     accuracy_fn\u001b[38;5;241m=\u001b[39maccuracy_fn,\n\u001b[1;32m     27\u001b[0m                                     device\u001b[38;5;241m=\u001b[39mdevice)\n\u001b[1;32m     29\u001b[0m     \u001b[38;5;28;01mfor\u001b[39;00m iteration, (x, y) \u001b[38;5;129;01min\u001b[39;00m \u001b[38;5;28menumerate\u001b[39m(train_dataloader):\n",
      "Cell \u001b[0;32mIn[48], line 16\u001b[0m, in \u001b[0;36mtrain_step\u001b[0;34m(model, data_loader, loss_fn, optimizer, accuracy_fn, device)\u001b[0m\n\u001b[1;32m     13\u001b[0m y \u001b[38;5;241m=\u001b[39m y\u001b[38;5;241m.\u001b[39msqueeze()\u001b[38;5;241m.\u001b[39mlong()\n\u001b[1;32m     15\u001b[0m \u001b[38;5;66;03m# Send data to selected device\u001b[39;00m\n\u001b[0;32m---> 16\u001b[0m X, y \u001b[38;5;241m=\u001b[39m \u001b[43mX\u001b[49m\u001b[38;5;241;43m.\u001b[39;49m\u001b[43mto\u001b[49m\u001b[43m(\u001b[49m\u001b[43mdevice\u001b[49m\u001b[43m)\u001b[49m, y\u001b[38;5;241m.\u001b[39mto(device)\n\u001b[1;32m     18\u001b[0m \u001b[38;5;66;03m# 1. Forward pass\u001b[39;00m\n\u001b[1;32m     19\u001b[0m y_pred \u001b[38;5;241m=\u001b[39m model(X)\n",
      "\u001b[0;31mKeyboardInterrupt\u001b[0m: "
     ]
    }
   ],
   "source": [
    "torch.manual_seed(42)\n",
    "\n",
    "# Measure Time\n",
    "\n",
    "train_time_start_model = timer()\n",
    "\n",
    "iteration_loss_list = []\n",
    "iteration_accuracy_list = []\n",
    "\n",
    "# set parameters\n",
    "epochs = 50\n",
    "best_loss = 10\n",
    "\n",
    "# call train and test function\n",
    "for epoch in tqdm(range(epochs)):\n",
    "    train_loss, train_acc = train_step(data_loader=train_dataloader,\n",
    "                                       model=model,\n",
    "                                       loss_fn = loss_fn,\n",
    "                                       optimizer=optimizer,\n",
    "                                       accuracy_fn=accuracy_fn,\n",
    "                                       device=device)\n",
    "    \n",
    "    test_loss, test_acc = test_step(data_loader=test_dataloader,\n",
    "                                    model=model,\n",
    "                                    loss_fn=loss_fn,\n",
    "                                    accuracy_fn=accuracy_fn,\n",
    "                                    device=device)\n",
    "    \n",
    "    for iteration, (x, y) in enumerate(train_dataloader):\n",
    "        iteration_loss_list.append(train_loss.item())\n",
    "        iteration_accuracy_list.append(train_acc)\n",
    "\n",
    "    \n",
    "    print(f\"Epoch: {epoch} | Training loss: {train_loss:.3f} | Training acc: {train_acc:.2f} | Test loss: {test_loss:.3f} | Test acc: {test_acc:.2f}\")\n",
    "\n",
    "    # save best model instance\n",
    "\n",
    "    if test_loss < best_loss:\n",
    "        best_loss = test_loss\n",
    "        print(f\"Saving best model for epoch: {epoch}\")\n",
    "        torch.save(obj=model.state_dict(), \n",
    "                   f=\"./organa_model.pth\")\n",
    "\n",
    "        \n",
    "train_time_end_model = timer()\n",
    "total_train_time_model = print_train_time(start=train_time_start_model,\n",
    "                                           end=train_time_end_model,\n",
    "                                           device=device)"
   ]
  },
  {
   "cell_type": "code",
   "execution_count": null,
   "metadata": {},
   "outputs": [
    {
     "name": "stderr",
     "output_type": "stream",
     "text": [
      "5it [00:00,  5.97it/s]\n"
     ]
    },
    {
     "data": {
      "text/plain": [
       "{'model_name': 'cnn',\n",
       " 'loss': 0.22438903152942657,\n",
       " 'accuracy': 89.79166666666667,\n",
       " 'predictions': tensor([1, 1, 1, 0, 1, 1, 1, 0, 1, 0, 1, 0, 1, 1, 0, 1, 0, 1, 1, 1, 1, 1, 0, 1,\n",
       "         0, 1, 1, 1, 0, 1, 0, 0, 1, 0, 1, 0, 1, 0, 0, 1, 0, 1, 1, 1, 1, 0, 0, 1,\n",
       "         1, 0, 0, 1, 0, 0, 1, 0, 1, 1, 1, 1, 1, 1, 1, 1, 1, 1, 1, 1, 1, 0, 0, 1,\n",
       "         0, 1, 0, 1, 1, 1, 1, 1, 1, 0, 1, 0, 1, 1, 1, 0, 1, 1, 0, 1, 1, 0, 1, 1,\n",
       "         0, 1, 1, 1, 1, 1, 1, 0, 1, 1, 0, 1, 1, 1, 1, 1, 1, 1, 0, 0, 1, 1, 0, 1,\n",
       "         1, 1, 1, 1, 0, 1, 1, 1, 1, 1, 0, 0, 0, 1, 1, 0, 0, 0, 1, 1, 1, 1, 0, 1,\n",
       "         0, 1, 1, 0, 1, 1, 1, 0, 1, 1, 1, 0, 1, 0, 1, 0, 0, 1, 1, 0, 0, 1, 0, 1,\n",
       "         0, 1, 0, 0, 0, 0, 0, 1, 0, 0, 1, 1, 1, 1, 1, 1, 1, 0, 1, 1, 0, 0, 0, 1,\n",
       "         0, 0, 1, 1, 1, 1, 0, 0, 1, 0, 0, 0, 0, 0, 0, 1, 1, 0, 0, 1, 1, 1, 1, 0,\n",
       "         0, 0, 1, 0, 0, 1, 0, 1, 0, 1, 0, 0, 1, 1, 1, 0, 1, 0, 1, 0, 0, 0, 1, 1,\n",
       "         1, 1, 1, 1, 1, 1, 1, 1, 0, 1, 1, 0, 0, 1, 0, 1, 1, 1, 1, 0, 1, 1, 1, 1,\n",
       "         1, 1, 1, 1, 1, 1, 1, 1, 1, 1, 0, 1, 1, 1, 1, 1, 1, 0, 1, 1, 0, 1, 1, 0,\n",
       "         0, 1, 1, 1, 0, 0, 1, 0, 0, 1, 0, 0, 1, 1, 1, 1, 1, 0, 1, 1, 1, 1, 1, 0,\n",
       "         0, 1, 1, 0, 1, 1, 1, 1, 1, 1, 1, 1, 1, 1, 0, 1, 1, 0, 1, 1, 0, 1, 0, 0,\n",
       "         0, 1, 1, 1, 0, 1, 1, 1, 1, 1, 1, 1, 1, 0, 1, 1, 1, 0, 0, 1, 1, 1, 0, 1,\n",
       "         0, 1, 1, 1, 1, 0, 0, 1, 1, 1, 1, 1, 1, 1, 1, 1, 1, 1, 0, 1, 1, 1, 0, 0,\n",
       "         1, 0, 0, 1, 0, 1, 1, 1, 0, 1, 1, 0, 1, 1, 0, 1, 1, 0, 1, 0, 1, 1, 0, 1,\n",
       "         0, 0, 1, 0, 1, 1, 1, 1, 0, 0, 1, 1, 0, 1, 1, 1, 0, 1, 1, 1, 1, 0, 0, 1,\n",
       "         1, 0, 1, 1, 1, 0, 0, 1, 1, 1, 1, 1, 1, 0, 1, 1, 1, 1, 1, 1, 1, 1, 0, 0,\n",
       "         0, 1, 0, 0, 0, 1, 1, 0, 1, 1, 1, 1, 1, 1, 1, 0, 1, 1, 1, 0, 0, 1, 0, 0,\n",
       "         1, 1, 1, 0, 0, 1, 1, 1, 1, 1, 0, 0, 1, 1, 1, 1, 0, 1, 0, 1, 0, 1, 0, 1,\n",
       "         1, 0, 1, 1, 1, 0, 1, 1, 0, 1, 1, 1, 1, 0, 1, 0, 1, 1, 0, 1]),\n",
       " 'targets': tensor([1, 1, 1, 0, 1, 1, 1, 0, 1, 1, 1, 0, 1, 1, 0, 1, 1, 1, 1, 1, 1, 1, 0, 1,\n",
       "         1, 1, 1, 1, 0, 1, 0, 0, 1, 0, 1, 0, 1, 0, 0, 1, 0, 1, 1, 1, 1, 0, 0, 1,\n",
       "         1, 0, 1, 1, 0, 1, 1, 0, 1, 1, 1, 1, 1, 1, 1, 1, 1, 1, 1, 1, 1, 0, 1, 1,\n",
       "         0, 1, 0, 1, 1, 1, 1, 1, 1, 0, 1, 0, 1, 1, 1, 1, 1, 1, 0, 1, 1, 0, 1, 1,\n",
       "         1, 1, 1, 1, 1, 1, 1, 1, 1, 1, 0, 1, 1, 1, 1, 1, 1, 1, 0, 1, 1, 1, 0, 1,\n",
       "         1, 1, 1, 1, 0, 1, 1, 1, 1, 1, 0, 0, 0, 1, 1, 0, 1, 1, 1, 1, 1, 1, 1, 1,\n",
       "         1, 1, 1, 0, 1, 1, 1, 0, 1, 1, 1, 0, 1, 0, 1, 0, 1, 1, 1, 1, 0, 1, 1, 1,\n",
       "         0, 1, 1, 0, 1, 0, 0, 1, 1, 0, 1, 1, 1, 1, 1, 1, 1, 0, 1, 1, 1, 0, 0, 1,\n",
       "         0, 0, 1, 1, 1, 1, 0, 0, 1, 0, 0, 0, 0, 0, 1, 1, 1, 1, 0, 1, 1, 1, 1, 0,\n",
       "         1, 0, 1, 0, 0, 1, 1, 0, 1, 1, 0, 0, 1, 1, 1, 1, 1, 0, 1, 0, 1, 0, 1, 1,\n",
       "         1, 1, 1, 1, 1, 1, 1, 1, 0, 1, 1, 0, 0, 1, 0, 1, 1, 1, 1, 0, 1, 1, 1, 1,\n",
       "         1, 1, 1, 1, 1, 1, 1, 1, 1, 1, 1, 1, 1, 1, 1, 1, 1, 0, 1, 1, 0, 1, 1, 0,\n",
       "         0, 1, 1, 1, 1, 0, 1, 0, 0, 1, 0, 0, 1, 1, 1, 1, 1, 1, 1, 1, 1, 1, 1, 0,\n",
       "         0, 1, 1, 1, 1, 1, 1, 1, 1, 1, 1, 1, 1, 1, 0, 1, 1, 0, 1, 1, 1, 1, 0, 0,\n",
       "         0, 1, 1, 1, 0, 1, 1, 1, 1, 1, 1, 1, 1, 0, 1, 1, 1, 0, 0, 1, 1, 1, 0, 1,\n",
       "         0, 1, 1, 1, 1, 0, 0, 1, 1, 1, 1, 1, 1, 1, 1, 1, 1, 1, 0, 1, 1, 1, 0, 0,\n",
       "         1, 1, 1, 1, 0, 1, 1, 1, 0, 1, 1, 0, 1, 1, 1, 1, 1, 1, 1, 0, 1, 1, 0, 1,\n",
       "         1, 0, 1, 0, 1, 1, 1, 1, 0, 0, 1, 1, 0, 1, 1, 1, 0, 1, 1, 1, 1, 0, 1, 1,\n",
       "         1, 0, 1, 1, 1, 0, 0, 1, 1, 1, 1, 1, 1, 1, 1, 1, 1, 1, 1, 1, 1, 1, 0, 0,\n",
       "         0, 1, 1, 0, 1, 1, 1, 0, 1, 1, 1, 1, 1, 1, 1, 0, 1, 1, 1, 1, 0, 1, 0, 0,\n",
       "         1, 1, 1, 0, 0, 1, 1, 1, 1, 1, 0, 0, 1, 1, 1, 1, 0, 1, 0, 1, 0, 1, 0, 1,\n",
       "         1, 0, 1, 1, 1, 0, 1, 1, 1, 1, 1, 1, 1, 1, 1, 0, 1, 1, 0, 1])}"
      ]
     },
     "execution_count": 21,
     "metadata": {},
     "output_type": "execute_result"
    }
   ],
   "source": [
    "# Load model\n",
    "loaded_model = cnn(input_shape=n_channels,\n",
    "                   hidden_units=16,\n",
    "                   output_shape=n_classes).to(device)\n",
    "\n",
    "loaded_model.load_state_dict(torch.load(f=\"./organa_model.pth\"))\n",
    "\n",
    "# get results\n",
    "model_results = eval_func(data_loader=val_dataloader,\n",
    "                          model=loaded_model,\n",
    "                          loss_fn=loss_fn,\n",
    "                          accuracy_fn=accuracy_fn,\n",
    "                          device=device)\n",
    "\n",
    "model_results"
   ]
  },
  {
   "cell_type": "code",
   "execution_count": null,
   "metadata": {},
   "outputs": [
    {
     "name": "stderr",
     "output_type": "stream",
     "text": [
      "/opt/homebrew/Caskroom/miniforge/base/envs/tif360/lib/python3.12/site-packages/mlxtend/plotting/plot_confusion_matrix.py:102: RuntimeWarning: invalid value encountered in divide\n",
      "  normed_conf_mat = conf_mat.astype(\"float\") / total_samples\n"
     ]
    },
    {
     "data": {
      "image/png": "[encoded data removed]",
      "text/plain": [
       "<Figure size 1000x700 with 1 Axes>"
      ]
     },
     "metadata": {},
     "output_type": "display_data"
    }
   ],
   "source": [
    "# Get Model predictions and true targets\n",
    "y_targets = model_results['targets']\n",
    "y_preds = model_results['predictions']\n",
    "\n",
    "# Setup confusion matrix \n",
    "confmat = ConfusionMatrix(task=\"multiclass\", num_classes=len(class_names))\n",
    "confmat_tensor = confmat(preds=y_preds,\n",
    "                         target=y_targets)\n",
    "\n",
    "# Plot the confusion matrix\n",
    "fix, ax = plot_confusion_matrix(\n",
    "    conf_mat=confmat_tensor.numpy(),\n",
    "    class_names=class_names,\n",
    "    figsize=(10, 7)\n",
    ")"
   ]
  },
  {
   "cell_type": "code",
   "execution_count": null,
   "metadata": {},
   "outputs": [
    {
     "data": {
      "text/plain": [
       "{'confmat': tensor([[133,   2],\n",
       "         [ 46, 343]])}"
      ]
     },
     "execution_count": 111,
     "metadata": {},
     "output_type": "execute_result"
    }
   ],
   "source": []
  },
  {
   "cell_type": "code",
   "execution_count": null,
   "metadata": {},
   "outputs": [],
   "source": []
  }
 ],
 "metadata": {
  "kernelspec": {
   "display_name": "tif360",
   "language": "python",
   "name": "python3"
  },
  "language_info": {
   "codemirror_mode": {
    "name": "ipython",
    "version": 3
   },
   "file_extension": ".py",
   "mimetype": "text/x-python",
   "name": "python",
   "nbconvert_exporter": "python",
   "pygments_lexer": "ipython3",
   "version": "3.12.3"
  }
 },
 "nbformat": 4,
 "nbformat_minor": 2
}
